{
 "cells": [
  {
   "cell_type": "markdown",
   "id": "bb63a819-4b7b-4c4c-9849-8505ff759ab4",
   "metadata": {
    "editable": true,
    "slideshow": {
     "slide_type": ""
    },
    "tags": []
   },
   "source": [
    "# Data Science Tools and Ecosystem"
   ]
  },
  {
   "cell_type": "markdown",
   "id": "bff97b10-7745-4221-98f7-f3fc1e584c2e",
   "metadata": {},
   "source": [
    "In this notebook, Data Scince Tools and Ecosystem are summarized."
   ]
  },
  {
   "cell_type": "markdown",
   "id": "14cf511e-9533-4c4f-8e0e-9e79e0b3232c",
   "metadata": {},
   "source": [
    "**Objectives:**\n",
    "* Python\n",
    "* SQL\n",
    "* R\n",
    "* Scala\n",
    "* Julia\n"
   ]
  },
  {
   "cell_type": "markdown",
   "id": "75d82553-9e10-4234-a546-a4729b6db229",
   "metadata": {},
   "source": [
    "Some of the popular languages that Data Science use are:\n",
    "1. Python\n",
    "2. SQL\n",
    "3. R\n",
    "4. Julia\n",
    "5. Scala"
   ]
  },
  {
   "cell_type": "markdown",
   "id": "9db3154d-43bc-4b61-a89c-9612dd34ab49",
   "metadata": {},
   "source": [
    "Some of the commonly used libraries used by Data Scince include:\n",
    "1. Numpy\n",
    "2. Pandas\n",
    "3. Matplotlib\n",
    "4. Scikit-learn\n",
    "5. NLTK"
   ]
  },
  {
   "cell_type": "markdown",
   "id": "9e01b6a1-abed-4be4-bd67-14a17227011d",
   "metadata": {},
   "source": [
    "| Data Science Tools |\n",
    "|--------------------|\n",
    "| Jupiter Notebook |\n",
    "| Hadoop |\n",
    "| Rstudio |"
   ]
  },
  {
   "cell_type": "markdown",
   "id": "2ae9e7be-899f-444e-8956-b022b1a93e03",
   "metadata": {},
   "source": [
    "### Below are few examples of evaluating arithmetic expressions in Python"
   ]
  },
  {
   "cell_type": "code",
   "execution_count": 4,
   "id": "d3f474ae-3f6f-4853-aa68-c8dd1676abd3",
   "metadata": {},
   "outputs": [
    {
     "data": {
      "text/plain": [
       "17"
      ]
     },
     "execution_count": 4,
     "metadata": {},
     "output_type": "execute_result"
    }
   ],
   "source": [
    "# This is a simple arithmetic expretion to mutiply then add integers\n",
    "(3*4)+5"
   ]
  },
  {
   "cell_type": "code",
   "execution_count": 1,
   "id": "d745dcc4-a338-4dbc-9d5a-5d181ffa74bb",
   "metadata": {},
   "outputs": [
    {
     "data": {
      "text/plain": [
       "3.33"
      ]
     },
     "execution_count": 1,
     "metadata": {},
     "output_type": "execute_result"
    }
   ],
   "source": [
    "# This will convert 200 minutes to hours by diving by 60\n",
    "minutes = 200\n",
    "hours = minutes/60\n",
    "round(hours, 2)"
   ]
  },
  {
   "cell_type": "markdown",
   "id": "7302d655-ca57-49c8-a786-ffa9139c4ed6",
   "metadata": {},
   "source": [
    "## Author\n",
    "Vladimir Brilliantov"
   ]
  }
 ],
 "metadata": {
  "kernelspec": {
   "display_name": "Python 3 (ipykernel)",
   "language": "python",
   "name": "python3"
  },
  "language_info": {
   "codemirror_mode": {
    "name": "ipython",
    "version": 3
   },
   "file_extension": ".py",
   "mimetype": "text/x-python",
   "name": "python",
   "nbconvert_exporter": "python",
   "pygments_lexer": "ipython3",
   "version": "3.12.2"
  }
 },
 "nbformat": 4,
 "nbformat_minor": 5
}
